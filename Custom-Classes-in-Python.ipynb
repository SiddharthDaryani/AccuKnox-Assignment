{
 "cells": [
  {
   "cell_type": "code",
   "execution_count": null,
   "id": "829a23a6",
   "metadata": {},
   "outputs": [],
   "source": [
    "\"\"\"\n",
    "TOPIC CUSTOM CLASSES IN PYTHON\n",
    "\"\"\""
   ]
  },
  {
   "cell_type": "code",
   "execution_count": 1,
   "id": "f4546c0f",
   "metadata": {},
   "outputs": [],
   "source": [
    "# Rectangle Class Definition\n",
    "class Rectangle:\n",
    "    def __init__(self, length: int, width: int):\n",
    "        \"\"\"\n",
    "        Initializes a Rectangle instance with a given length and width.\n",
    "\n",
    "        Args:\n",
    "            length (int): The length of the rectangle.\n",
    "            width (int): The width of the rectangle.\n",
    "        \"\"\"\n",
    "        if not isinstance(length, int) or not isinstance(width, int):\n",
    "            raise TypeError(\"Length and width must be integers.\")\n",
    "        if length < 0 or width < 0:\n",
    "            raise ValueError(\"Length and width cannot be negative.\")\n",
    "\n",
    "        self.length = length\n",
    "        self.width = width\n",
    "\n",
    "    def __iter__(self):\n",
    "        \"\"\"\n",
    "        Allows iteration over the Rectangle instance, yielding its length and then its width.\n",
    "        \"\"\"\n",
    "        yield {'length': self.length}\n",
    "        yield {'width': self.width}"
   ]
  },
  {
   "cell_type": "code",
   "execution_count": 2,
   "id": "09a41744",
   "metadata": {},
   "outputs": [
    {
     "name": "stdout",
     "output_type": "stream",
     "text": [
      "Iterating over the first rectangle:\n",
      "{'length': 10}\n",
      "{'width': 5}\n",
      "\n",
      "Iterating over a second rectangle:\n",
      "{'length': 7}\n",
      "{'width': 3}\n"
     ]
    }
   ],
   "source": [
    "# Example Usage: Creating and Iterating Over Rectangles\n",
    "# Create an instance of the Rectangle class\n",
    "my_rectangle = Rectangle(length=10, width=5)\n",
    "\n",
    "print(\"Iterating over the first rectangle:\")\n",
    "for item in my_rectangle:\n",
    "    print(item)\n",
    "\n",
    "# Create another instance with different values\n",
    "another_rectangle = Rectangle(7, 3)\n",
    "print(\"\\nIterating over a second rectangle:\")\n",
    "for item in another_rectangle:\n",
    "    print(item)"
   ]
  },
  {
   "cell_type": "code",
   "execution_count": 3,
   "id": "c7ac1863",
   "metadata": {},
   "outputs": [
    {
     "name": "stdout",
     "output_type": "stream",
     "text": [
      "\n",
      "Error creating rectangle with invalid type: Length and width must be integers.\n",
      "Error creating rectangle with negative value: Length and width cannot be negative.\n"
     ]
    }
   ],
   "source": [
    "# Example Usage: Handling Invalid Inputs\n",
    "# Demonstrate error handling for invalid input types\n",
    "try:\n",
    "    invalid_rectangle_type = Rectangle(10.5, 5)\n",
    "except TypeError as e:\n",
    "    print(f\"\\nError creating rectangle with invalid type: {e}\")\n",
    "\n",
    "# Demonstrate error handling for negative values\n",
    "try:\n",
    "    invalid_rectangle_negative = Rectangle(-2, 5)\n",
    "except ValueError as e:\n",
    "    print(f\"Error creating rectangle with negative value: {e}\")"
   ]
  },
  {
   "cell_type": "code",
   "execution_count": null,
   "id": "ab010f30",
   "metadata": {},
   "outputs": [],
   "source": []
  }
 ],
 "metadata": {
  "kernelspec": {
   "display_name": "base",
   "language": "python",
   "name": "python3"
  },
  "language_info": {
   "codemirror_mode": {
    "name": "ipython",
    "version": 3
   },
   "file_extension": ".py",
   "mimetype": "text/x-python",
   "name": "python",
   "nbconvert_exporter": "python",
   "pygments_lexer": "ipython3",
   "version": "3.12.7"
  }
 },
 "nbformat": 4,
 "nbformat_minor": 5
}
