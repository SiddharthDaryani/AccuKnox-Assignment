{
 "cells": [
  {
   "cell_type": "code",
   "execution_count": 1,
   "id": "7459647c",
   "metadata": {},
   "outputs": [
    {
     "data": {
      "text/plain": [
       "'\\nTOPIC 1 Django Signals\\n'"
      ]
     },
     "execution_count": 1,
     "metadata": {},
     "output_type": "execute_result"
    }
   ],
   "source": [
    "\"\"\"\n",
    "TOPIC 1 Django Signals\n",
    "\"\"\""
   ]
  },
  {
   "cell_type": "code",
   "execution_count": 2,
   "id": "3681b215",
   "metadata": {},
   "outputs": [
    {
     "data": {
      "text/plain": [
       "\"\\nBy default, Django signals are executed synchronously.\\n\\nThis means that when a signal is sent, all connected receiver functions are called one after another, \\nin the same thread, before the code that triggered the signal can proceed. \\nIf a receiver takes a long time to execute, it will block the entire process until it's finished.\\n\\nDjango does offer asynchronous sending of signal but not by default.\\n\\nHere is the code snippet in the next window.\\n\""
      ]
     },
     "execution_count": 2,
     "metadata": {},
     "output_type": "execute_result"
    }
   ],
   "source": [
    "# Answer 1\n",
    "\"\"\"\n",
    "By default, Django signals are executed synchronously.\n",
    "\n",
    "This means that when a signal is sent, all connected receiver functions are called one after another, \n",
    "in the same thread, before the code that triggered the signal can proceed. \n",
    "If a receiver takes a long time to execute, it will block the entire process until it's finished.\n",
    "\n",
    "Django does offer asynchronous sending of signal but not by default.\n",
    "\n",
    "Here is the code snippet in the next window.\n",
    "\"\"\""
   ]
  },
  {
   "cell_type": "code",
   "execution_count": 11,
   "id": "ecc29b9f",
   "metadata": {},
   "outputs": [
    {
     "name": "stdout",
     "output_type": "stream",
     "text": [
      "[1748633695.5581927] Caught 'populate() isn't reentrant' error. Assuming Django is already set up and proceeding.\n",
      "[1748633695.558662] Warning: Django apps are NOT ready after setup attempt.\n"
     ]
    }
   ],
   "source": [
    "import os\n",
    "import sys\n",
    "import django\n",
    "import time\n",
    "\n",
    "# --- Setup for Django Settings File (Most Robust Approach) ---\n",
    "settings_content = \"\"\"\n",
    "import os\n",
    "DEBUG = True\n",
    "SECRET_KEY = 'very-secret-key-for-temp-use'\n",
    "INSTALLED_APPS = [\n",
    "    '__main__.MyappConfig', # Refers to the MyappConfig defined in the notebook's global scope\n",
    "]\n",
    "# ROOT_URLCONF will point to this temporary settings module itself,\n",
    "# assuming urlpatterns are also defined in the notebook's global scope.\n",
    "ROOT_URLCONF = 'temp_settings_jupyter'\n",
    "TEMPLATES = [\n",
    "    {\n",
    "        'BACKEND': 'django.template.backends.django.DjangoTemplates',\n",
    "        'APP_DIRS': True,\n",
    "    },\n",
    "]\n",
    "\"\"\"\n",
    "\n",
    "temp_settings_filename = 'temp_settings_jupyter.py'\n",
    "temp_settings_filepath = os.path.join(os.getcwd(), temp_settings_filename)\n",
    "\n",
    "# Write the settings content to the file\n",
    "with open(temp_settings_filepath, 'w') as f:\n",
    "    f.write(settings_content)\n",
    "\n",
    "# Add the current directory to sys.path so Python can find temp_settings_jupyter.py\n",
    "if os.getcwd() not in sys.path:\n",
    "    sys.path.append(os.getcwd())\n",
    "\n",
    "# Set the DJANGO_SETTINGS_MODULE environment variable\n",
    "# This needs to be set BEFORE django.setup() is called\n",
    "os.environ.setdefault('DJANGO_SETTINGS_MODULE', temp_settings_filename.replace('.py', ''))\n",
    "\n",
    "# --- Define MyappConfig (Must be before django.setup() as it's in INSTALLED_APPS) ---\n",
    "from django.apps import AppConfig\n",
    "\n",
    "class MyappConfig(AppConfig):\n",
    "    name = 'myapp'\n",
    "    label = 'myapp'\n",
    "    verbose_name = 'My App'\n",
    "\n",
    "    def ready(self):\n",
    "        # This will print when Django successfully loads this app\n",
    "        print(f\"[{time.time()}] MyappConfig ready method called. App registered.\")\n",
    "\n",
    "# --- Initialize Django (The Tricky Part in Jupyter) ---\n",
    "# Check if Django's app registry is ready. This is the most reliable internal check.\n",
    "if not django.apps.apps.ready:\n",
    "    try:\n",
    "        # Attempt to run django.setup(). This is where the 'reentrant' error often occurs.\n",
    "        django.setup()\n",
    "        print(f\"[{time.time()}] Django environment set up for the first time in this session (no reentrant error).\")\n",
    "    except RuntimeError as e:\n",
    "        # If a RuntimeError (especially 'reentrant') occurs, it *usually* means\n",
    "        # Django is already set up enough for our purposes in Jupyter.\n",
    "        if \"populate() isn't reentrant\" in str(e):\n",
    "            print(f\"[{time.time()}] Caught 'populate() isn't reentrant' error. Assuming Django is already set up and proceeding.\")\n",
    "            # We don't re-raise here, because for Jupyter, this error often implies\n",
    "            # a successful, albeit internally \"messy,\" prior setup.\n",
    "        else:\n",
    "            # If it's a different RuntimeError, we should re-raise it.\n",
    "            raise\n",
    "else:\n",
    "    print(f\"[{time.time()}] Django environment already set up in this session (django.apps.apps.ready is True). Skipping full setup.\")\n",
    "\n",
    "# --- Final Check (Optional, but good for debugging) ---\n",
    "if django.apps.apps.ready:\n",
    "    print(f\"[{time.time()}] Confirmed: Django apps are ready. Loaded apps: {[app.name for app in django.apps.apps.get_app_configs()]}\")\n",
    "else:\n",
    "    print(f\"[{time.time()}] Warning: Django apps are NOT ready after setup attempt.\")"
   ]
  },
  {
   "cell_type": "code",
   "execution_count": null,
   "id": "db9804ce",
   "metadata": {},
   "outputs": [],
   "source": []
  }
 ],
 "metadata": {
  "kernelspec": {
   "display_name": "base",
   "language": "python",
   "name": "python3"
  },
  "language_info": {
   "codemirror_mode": {
    "name": "ipython",
    "version": 3
   },
   "file_extension": ".py",
   "mimetype": "text/x-python",
   "name": "python",
   "nbconvert_exporter": "python",
   "pygments_lexer": "ipython3",
   "version": "3.12.7"
  }
 },
 "nbformat": 4,
 "nbformat_minor": 5
}
